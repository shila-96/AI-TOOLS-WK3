{
  "cells": [
    {
      "cell_type": "code",
      "execution_count": null,
      "metadata": {
        "colab": {
          "base_uri": "https://localhost:8080/",
          "height": 660
        },
        "id": "OaG-Nk0H7JdO",
        "outputId": "18c0f0c8-42a4-442f-c7c2-6434d90dd3d1"
      },
      "outputs": [
        {
          "name": "stdout",
          "output_type": "stream",
          "text": [
            "🔍 Named Entity Recognition Results:\n",
            "\n",
            "Review: I love my new Samsung Galaxy phone. The camera quality is amazing!\n",
            " - Samsung Galaxy (ORG)\n",
            "--------------------------------------------------\n",
            "Review: This Apple MacBook Pro is overpriced and the battery life is disappointing.\n",
            "--------------------------------------------------\n",
            "Review: Sony headphones deliver incredible sound for the price.\n",
            " - Sony (ORG)\n",
            "--------------------------------------------------\n",
            "Review: The Dell laptop runs smoothly and is perfect for work.\n",
            " - Dell (ORG)\n",
            "--------------------------------------------------\n",
            "Review: I'm unhappy with this Lenovo tablet — it's very slow.\n",
            " - Lenovo (ORG)\n",
            "--------------------------------------------------\n",
            "\n",
            "💬 Sentiment Analysis Results:\n",
            "\n",
            "Review: I love my new Samsung Galaxy phone. The camera quality is amazing!\n",
            " → Sentiment: Positive 😊\n",
            "--------------------------------------------------\n",
            "Review: This Apple MacBook Pro is overpriced and the battery life is disappointing.\n",
            " → Sentiment: Negative 😞\n",
            "--------------------------------------------------\n",
            "Review: Sony headphones deliver incredible sound for the price.\n",
            " → Sentiment: Positive 😊\n",
            "--------------------------------------------------\n",
            "Review: The Dell laptop runs smoothly and is perfect for work.\n",
            " → Sentiment: Positive 😊\n",
            "--------------------------------------------------\n",
            "Review: I'm unhappy with this Lenovo tablet — it's very slow.\n",
            " → Sentiment: Negative 😞\n",
            "--------------------------------------------------\n"
          ]
        },
        {
          "data": {
            "text/html": [
              "<span class=\"tex2jax_ignore\"><div class=\"entities\" style=\"line-height: 2.5; direction: ltr\">I love my new \n",
              "<mark class=\"entity\" style=\"background: #7aecec; padding: 0.45em 0.6em; margin: 0 0.25em; line-height: 1; border-radius: 0.35em;\">\n",
              "    Samsung Galaxy\n",
              "    <span style=\"font-size: 0.8em; font-weight: bold; line-height: 1; border-radius: 0.35em; vertical-align: middle; margin-left: 0.5rem\">ORG</span>\n",
              "</mark>\n",
              " phone. The camera quality is amazing!</div></span>"
            ],
            "text/plain": [
              "<IPython.core.display.HTML object>"
            ]
          },
          "metadata": {},
          "output_type": "display_data"
        },
        {
          "data": {
            "text/plain": [
              "<IPython.core.display.HTML object>"
            ]
          },
          "metadata": {},
          "output_type": "display_data"
        }
      ],
      "source": [
        "import streamlit as st\n",
        "import spacy\n",
        "from spacy import displacy\n",
        "import subprocess\n",
        "import sys\n",
        "\n",
        "# =============================\n",
        "# ✅ Ensure spaCy model is installed\n",
        "# =============================\n",
        "@st.cache_resource\n",
        "def load_model():\n",
        "    try:\n",
        "        return spacy.load(\"en_core_web_sm\")\n",
        "    except OSError:\n",
        "        # Download model if not found\n",
        "        subprocess.run(\n",
        "            [sys.executable, \"-m\", \"spacy\", \"download\", \"en_core_web_sm\"],\n",
        "            check=True\n",
        "        )\n",
        "        return spacy.load(\"en_core_web_sm\")\n",
        "\n",
        "nlp = load_model()\n",
        "\n",
        "# =============================\n",
        "# 🧠 NLP App — Amazon-style Product Reviews\n",
        "# =============================\n",
        "\n",
        "st.title(\"🧠 NLP Product Review Analyzer\")\n",
        "\n",
        "reviews = [\n",
        "    \"I love my new Samsung Galaxy phone. The camera quality is amazing!\",\n",
        "    \"This Apple MacBook Pro is overpriced and the battery life is disappointing.\",\n",
        "    \"Sony headphones deliver incredible sound for the price.\",\n",
        "    \"The Dell laptop runs smoothly and is perfect for work.\",\n",
        "    \"I'm unhappy with this Lenovo tablet — it's very slow.\"\n",
        "]\n",
        "\n",
        "st.header(\"🔍 Named Entity Recognition (NER) Results\")\n",
        "\n",
        "for review in reviews:\n",
        "    st.subheader(f\"Review: {review}\")\n",
        "    doc = nlp(review)\n",
        "    if doc.ents:\n",
        "        for ent in doc.ents:\n",
        "            st.write(f\"- **{ent.text}** ({ent.label_})\")\n",
        "    else:\n",
        "        st.write(\"No entities found.\")\n",
        "    st.write(\"---\")\n",
        "\n",
        "# =============================\n",
        "# 💬 Sentiment Analysis\n",
        "# =============================\n",
        "st.header(\"💬 Sentiment Analysis\")\n",
        "\n",
        "positive_words = [\"love\", \"amazing\", \"incredible\", \"perfect\", \"smoothly\"]\n",
        "negative_words = [\"disappointing\", \"slow\", \"overpriced\", \"unhappy\", \"bad\"]\n",
        "\n",
        "def analyze_sentiment(text):\n",
        "    text_lower = text.lower()\n",
        "    pos = sum(word in text_lower for word in positive_words)\n",
        "    neg = sum(word in text_lower for word in negative_words)\n",
        "    if pos > neg:\n",
        "        return \"Positive 😊\"\n",
        "    elif neg > pos:\n",
        "        return \"Negative 😞\"\n",
        "    else:\n",
        "        return \"Neutral 😐\"\n",
        "\n",
        "for review in reviews:\n",
        "    sentiment = analyze_sentiment(review)\n",
        "    st.write(f\"**{review}** → {sentiment}\")\n",
        "\n",
        "# =============================\n",
        "# 🖼️ Optional: Entity Visualization\n",
        "# =============================\n",
        "st.header(\"🖼️ Entity Visualization (Sample)\")\n",
        "doc = nlp(reviews[0])\n",
        "html = displacy.render(doc, style=\"ent\")\n",
        "st.markdown(html, unsafe_allow_html=True)\n"
      ]
    }
  ],
  "metadata": {
    "colab": {
      "provenance": []
    },
    "kernelspec": {
      "display_name": "Python 3",
      "name": "python3"
    },
    "language_info": {
      "name": "python"
    }
  },
  "nbformat": 4,
  "nbformat_minor": 0
}
